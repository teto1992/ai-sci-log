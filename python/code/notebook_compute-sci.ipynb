{
 "cells": [
  {
   "cell_type": "markdown",
   "metadata": {},
   "source": [
    "# Notebook to simulate data and a SCI score for england over two years"
   ]
  },
  {
   "cell_type": "code",
   "execution_count": null,
   "metadata": {},
   "outputs": [],
   "source": [
    "import pandas as pd\n",
    "import json\n",
    "import numpy as np"
   ]
  },
  {
   "cell_type": "code",
   "execution_count": null,
   "metadata": {},
   "outputs": [],
   "source": [
    "%load_ext autoreload\n",
    "%autoreload 2\n",
    "import simulate_sci_data as sci"
   ]
  },
  {
   "cell_type": "code",
   "execution_count": null,
   "metadata": {},
   "outputs": [],
   "source": [
    "sci.simulate_sci_data(\"../data/carbonintensitydata.json\", \"../data/devices_generated.json\",  \"../data/timeseries.json\", \"both\")"
   ]
  },
  {
   "cell_type": "code",
   "execution_count": null,
   "metadata": {},
   "outputs": [],
   "source": [
    "def process_dict_df(df, feature):\n",
    "    inner = df[feature].map(lambda d: next(iter(d.values())) if isinstance(d, dict) and d else {})\n",
    "    df_matrix = inner.apply(pd.Series)\n",
    "    df_matrix.index = pd.to_datetime(df[\"time\"])  # optional but handy\n",
    "    return df_matrix.sort_index().sort_index(axis=1)\n",
    "\n",
    "def load_sci_raw_data(path_carbon_intensity, path_devices_details, path_timeseries_data):\n",
    "    df_carbon_intensity = pd.read_json(path_carbon_intensity).T\n",
    "    df_devices = pd.read_json(path_devices_details)\n",
    "    df_devices = pd.json_normalize(df_devices[\"devices\"])\n",
    "    df_time_seriesV2 = pd.read_json(path_timeseries_data) \n",
    "    \n",
    "    df_hardware_usage = process_dict_df(df_time_seriesV2, \"hardware_usages\")\n",
    "    df_pue = process_dict_df(df_time_seriesV2, \"pue_values\")\n",
    "\n",
    "    return df_carbon_intensity, df_devices, df_time_seriesV2, df_hardware_usage, df_pue\n",
    "\n",
    "def compute_o(df_carbon_intensity, df_devices, df_time_seriesV2, df_hardware_usage, df_pue):\n",
    "\n",
    "    df_final_o = pd.DataFrame()\n",
    "    \n",
    "    for device_id in df_devices.device_id:\n",
    "        #get the inputs\n",
    "        tmp_pue = df_pue[device_id]\n",
    "        tmp_carbon = df_carbon_intensity[df_devices[df_devices[\"device_id\"]==device_id][\"location\"]]\n",
    "        power_idle = df_devices[df_devices[\"device_id\"]==device_id][\"power_idle\"].values[0]\n",
    "        power_var = df_devices[df_devices[\"device_id\"]==device_id][\"power_variable\"].values[0]\n",
    "        tmp_usage = df_hardware_usage[device_id] \n",
    "    \n",
    "        #combine them into a DF\n",
    "        tmp_carbon.columns = [\"carbon\"]\n",
    "        df_o = pd.concat([tmp_pue.rename(\"pue\"), tmp_carbon], axis=1)\n",
    "        df_o = pd.concat([df_o, tmp_usage.rename(\"usage\")], axis=1)\n",
    "        df_o[\"idle\"] = power_idle\n",
    "        df_o[\"power\"] = power_var\n",
    "    \n",
    "        #make the computations\n",
    "        df_o[\"energy_consumption\"] = ((df_o[\"power\"] * df_o[\"usage\"] ) + df_o[\"idle\"]) *0.5\n",
    "        df_o.drop([\"idle\", \"power\", \"usage\"], inplace=True, axis=1)\n",
    "        df_o[\"o\"] = (df_o[\"pue\"] * df_o[\"carbon\"] * df_o[\"energy_consumption\"]) /1000\n",
    "    \n",
    "        #save everything\n",
    "        df_final_o = pd.concat([df_final_o, df_o.rename({\"o\":device_id}, axis=1)[device_id]], axis=1)\n",
    "    return df_final_o\n",
    "\n",
    "def compute_m(df_carbon_intensity, df_devices, df_time_seriesV2, df_hardware_usage, df_pue):\n",
    "    df_final_m = pd.DataFrame()\n",
    "\n",
    "    for device_id in df_devices.device_id:\n",
    "        #get the inputs into a dataframe\n",
    "        df_m = pd.DataFrame(df_hardware_usage[device_id], columns = [device_id]).rename({device_id:\"usage\"}, axis=1)\n",
    "        df_m[\"embodied_carbon\"] = df_devices[df_devices[\"device_id\"]==device_id][\"embodied_carbon\"].values[0]\n",
    "        df_m[\"lifetime\"] = df_devices[df_devices[\"device_id\"]==device_id][\"lifetime\"].values[0]\n",
    "        df_m.index.name = None\n",
    "        \n",
    "        #make the computations\n",
    "        df_m[\"M\"] = df_m[\"embodied_carbon\"] * (0.5 / df_m[\"lifetime\"]) * df_m[\"usage\"]\n",
    "        df_m.drop([\"lifetime\", \"embodied_carbon\", \"usage\"], inplace=True, axis=1)\n",
    "        \n",
    "        #save everything\n",
    "        df_final_m = pd.concat([df_final_m, df_m.rename({\"M\":device_id}, axis=1)[device_id]], axis=1)\n",
    "    return df_final_m\n",
    "\n",
    "def compute_sci(df_final_o, df_final_m, df_time_seriesV2):\n",
    "    df_sci = pd.concat([df_final_o.sum(axis=1).rename(\"O\"), df_final_m.sum(axis=1).rename(\"M\")], axis=1)\n",
    "    # add functional units \n",
    "    df_functinal_units = df_time_seriesV2[\"functional_units\"]\n",
    "    df_functinal_units.index = df_time_seriesV2[\"time\"]\n",
    "    df_sci.index = pd.to_datetime(df_sci.index).tz_convert(\"UTC\")\n",
    "    df_functinal_units.index = pd.to_datetime(df_functinal_units.index).tz_convert(\"UTC\")\n",
    "    \n",
    "    df_sci  = pd.concat([df_sci , df_functinal_units], axis=1)\n",
    "    df_sci.reset_index(inplace=True)\n",
    "    df_sci.rename({\"index\":\"datetime\"}, axis=1, inplace=True)\n",
    "    return df_sci\n",
    "\n",
    "def simulate_sci_forecast(df_sci):\n",
    "    df_shifted = df_sci.copy()\n",
    "    df_shifted.datetime = pd.to_datetime(df_shifted.datetime) + pd.DateOffset(years=1)\n",
    "\n",
    "    df_shifted[\"O\"] = df_shifted[\"O\"] * (1 + np.random.normal(0, 0.05, len(df_shifted)))\n",
    "    df_shifted[\"M\"] = df_shifted[\"M\"] * (1 + np.random.normal(0, 0.05, len(df_shifted)))\n",
    "    df_shifted[\"functional_units\"] = df_shifted[\"functional_units\"] * (1 + np.random.normal(0, 0.05, len(df_shifted)))\n",
    "    df_shifted[\"functional_units\"] = df_shifted[\"functional_units\"].round().astype(int)\n",
    "    df_shifted[\"SCI\"] = (df_shifted[\"O\"] + df_shifted[\"M\"]) / (df_shifted[\"functional_units\"] * 1000)\n",
    "\n",
    "    return df_shifted\n",
    "\n",
    "\n",
    "def simulate_sci_data(path_carbon_intensity, path_devices_details, path_timeseries_data, type_to_simulate):\n",
    "\n",
    "    df_carbon_intensity, df_devices, df_time_seriesV2, df_hardware_usage, df_pue = load_sci_raw_data(path_carbon_intensity, \n",
    "                                                                                                     path_devices_details, \n",
    "                                                                                                     path_timeseries_data)\n",
    "    df_final_o = compute_o(df_carbon_intensity, df_devices, df_time_seriesV2, df_hardware_usage, df_pue)\n",
    "    df_final_m = compute_m(df_carbon_intensity, df_devices, df_time_seriesV2, df_hardware_usage, df_pue)\n",
    "    df_sci = compute_sci(df_final_o, df_final_m, df_time_seriesV2)\n",
    "\n",
    "    if type_to_simulate == \"past\":\n",
    "        return df_sci\n",
    "    elif type_to_simulate == \"future\":\n",
    "        return simulate_sci_forecast(df_sci)\n",
    "    else:\n",
    "        return df_sci, simulate_sci_forecast(df_sci)\n",
    "\n"
   ]
  },
  {
   "cell_type": "code",
   "execution_count": null,
   "metadata": {},
   "outputs": [],
   "source": [
    "simulate_sci_data(\"../data/carbonintensitydata.json\", \"../data/devices_generated.json\",  \"../data/timeseries.json\", \"both\")"
   ]
  },
  {
   "cell_type": "code",
   "execution_count": null,
   "metadata": {},
   "outputs": [],
   "source": []
  },
  {
   "cell_type": "code",
   "execution_count": null,
   "metadata": {},
   "outputs": [],
   "source": []
  },
  {
   "cell_type": "code",
   "execution_count": null,
   "metadata": {},
   "outputs": [],
   "source": []
  },
  {
   "cell_type": "markdown",
   "metadata": {},
   "source": [
    "## Data loading\n",
    "\n",
    "We load the carbon intensity data"
   ]
  },
  {
   "cell_type": "code",
   "execution_count": null,
   "metadata": {},
   "outputs": [],
   "source": [
    "df_carbon_intensity = pd.read_json(\"../data/carbonintensitydata.json\").T\n",
    "df_carbon_intensity"
   ]
  },
  {
   "cell_type": "markdown",
   "metadata": {},
   "source": [
    "the details aboit te devices"
   ]
  },
  {
   "cell_type": "code",
   "execution_count": null,
   "metadata": {},
   "outputs": [],
   "source": [
    "df_devices = pd.read_json(\"../data/devices_generated.json\")\n",
    "df_devices = pd.json_normalize(df_devices[\"devices\"])"
   ]
  },
  {
   "cell_type": "code",
   "execution_count": null,
   "metadata": {},
   "outputs": [],
   "source": [
    "df_devices"
   ]
  },
  {
   "cell_type": "markdown",
   "metadata": {},
   "source": [
    "and the \"consumption details\" about usage and PUE of the devices"
   ]
  },
  {
   "cell_type": "code",
   "execution_count": null,
   "metadata": {},
   "outputs": [],
   "source": [
    "df_time_seriesV2 = pd.read_json(\"../data/timeseries.json\") "
   ]
  },
  {
   "cell_type": "code",
   "execution_count": null,
   "metadata": {},
   "outputs": [],
   "source": [
    "df_time_seriesV2"
   ]
  },
  {
   "cell_type": "markdown",
   "metadata": {},
   "source": [
    "From that we extract the hardware usage into a dataframe"
   ]
  },
  {
   "cell_type": "code",
   "execution_count": null,
   "metadata": {},
   "outputs": [],
   "source": [
    "inner = df_time_seriesV2[\"hardware_usages\"].map(\n",
    "    lambda d: next(iter(d.values())) if isinstance(d, dict) and d else {}\n",
    ")\n",
    "\n",
    "# 2) Expand to columns (device IDs) and index by time\n",
    "df_matrix = inner.apply(pd.Series)\n",
    "df_matrix.index = pd.to_datetime(df_time_seriesV2[\"time\"])  # optional but handy\n",
    "df_hardware_usage = df_matrix.sort_index().sort_index(axis=1)"
   ]
  },
  {
   "cell_type": "code",
   "execution_count": null,
   "metadata": {},
   "outputs": [],
   "source": [
    "df_hardware_usage"
   ]
  },
  {
   "cell_type": "markdown",
   "metadata": {},
   "source": [
    "and we do teh same for the PUE"
   ]
  },
  {
   "cell_type": "code",
   "execution_count": null,
   "metadata": {},
   "outputs": [],
   "source": [
    "inner = df_time_seriesV2[\"pue_values\"].map(\n",
    "    lambda d: next(iter(d.values())) if isinstance(d, dict) and d else {}\n",
    ")\n",
    "\n",
    "# 2) Expand to columns (device IDs) and index by time\n",
    "df_matrix = inner.apply(pd.Series)\n",
    "df_matrix.index = pd.to_datetime(df_time_seriesV2[\"time\"])  # optional but handy\n",
    "df_pue = df_matrix.sort_index().sort_index(axis=1)"
   ]
  },
  {
   "cell_type": "code",
   "execution_count": null,
   "metadata": {},
   "outputs": [],
   "source": [
    "df_pue"
   ]
  },
  {
   "cell_type": "markdown",
   "metadata": {},
   "source": [
    "## SCI computation"
   ]
  },
  {
   "cell_type": "markdown",
   "metadata": {},
   "source": [
    "### Compute O\n",
    "\n",
    "First, we compute O for all the devices"
   ]
  },
  {
   "cell_type": "code",
   "execution_count": null,
   "metadata": {},
   "outputs": [],
   "source": [
    "df_final_o = pd.DataFrame()\n",
    "\n",
    "for device_id in df_devices.device_id:\n",
    "    #get the inputs\n",
    "    tmp_pue = df_pue[device_id]\n",
    "    tmp_carbon = df_carbon_intensity[df_devices[df_devices[\"device_id\"]==device_id][\"location\"]]\n",
    "    power_idle = df_devices[df_devices[\"device_id\"]==device_id][\"power_idle\"].values[0]\n",
    "    power_var = df_devices[df_devices[\"device_id\"]==device_id][\"power_variable\"].values[0]\n",
    "    tmp_usage = df_hardware_usage[device_id] \n",
    "\n",
    "    #combine them into a DF\n",
    "    tmp_carbon.columns = [\"carbon\"]\n",
    "    df_o = pd.concat([tmp_pue.rename(\"pue\"), tmp_carbon], axis=1)\n",
    "    df_o = pd.concat([df_o, tmp_usage.rename(\"usage\")], axis=1)\n",
    "    df_o[\"idle\"] = power_idle\n",
    "    df_o[\"power\"] = power_var\n",
    "\n",
    "    #make the computations\n",
    "    df_o[\"energy_consumption\"] = ((df_o[\"power\"] * df_o[\"usage\"] ) + df_o[\"idle\"]) *0.5\n",
    "    df_o.drop([\"idle\", \"power\", \"usage\"], inplace=True, axis=1)\n",
    "    df_o[\"o\"] = (df_o[\"pue\"] * df_o[\"carbon\"] * df_o[\"energy_consumption\"]) /1000\n",
    "\n",
    "    #save everything\n",
    "    df_final_o = pd.concat([df_final_o, df_o.rename({\"o\":device_id}, axis=1)[device_id]], axis=1)\n",
    "\n"
   ]
  },
  {
   "cell_type": "code",
   "execution_count": null,
   "metadata": {},
   "outputs": [],
   "source": [
    "df_final_o"
   ]
  },
  {
   "cell_type": "markdown",
   "metadata": {},
   "source": [
    "## compute M\n",
    "\n",
    "Second, we compute M for all devices"
   ]
  },
  {
   "cell_type": "code",
   "execution_count": null,
   "metadata": {},
   "outputs": [],
   "source": [
    "df_final_m = pd.DataFrame()\n",
    "\n",
    "for device_id in df_devices.device_id:\n",
    "    #get the inputs into a dataframe\n",
    "    df_m = pd.DataFrame(df_hardware_usage[device_id], columns = [device_id]).rename({device_id:\"usage\"}, axis=1)\n",
    "    df_m[\"embodied_carbon\"] = df_devices[df_devices[\"device_id\"]==device_id][\"embodied_carbon\"].values[0]\n",
    "    df_m[\"lifetime\"] = df_devices[df_devices[\"device_id\"]==device_id][\"lifetime\"].values[0]\n",
    "    df_m.index.name = None\n",
    "    \n",
    "    #make the computations\n",
    "    df_m[\"M\"] = df_m[\"embodied_carbon\"] * (0.5 / df_m[\"lifetime\"]) * df_m[\"usage\"]\n",
    "    df_m.drop([\"lifetime\", \"embodied_carbon\", \"usage\"], inplace=True, axis=1)\n",
    "    \n",
    "    #save everything\n",
    "    df_final_m = pd.concat([df_final_m, df_m.rename({\"M\":device_id}, axis=1)[device_id]], axis=1)"
   ]
  },
  {
   "cell_type": "code",
   "execution_count": null,
   "metadata": {},
   "outputs": [],
   "source": [
    "df_final_m"
   ]
  },
  {
   "cell_type": "markdown",
   "metadata": {},
   "source": [
    "### Compute SCI\n",
    "\n",
    "First, we collect O and M"
   ]
  },
  {
   "cell_type": "code",
   "execution_count": null,
   "metadata": {},
   "outputs": [],
   "source": [
    "df_sci = pd.concat([df_final_o.sum(axis=1).rename(\"O\"), df_final_m.sum(axis=1).rename(\"M\")], axis=1)"
   ]
  },
  {
   "cell_type": "markdown",
   "metadata": {},
   "source": [
    "We add the number of requests, i.e. the functional_units"
   ]
  },
  {
   "cell_type": "code",
   "execution_count": null,
   "metadata": {},
   "outputs": [],
   "source": [
    "# add functional units \n",
    "df_functinal_units = df_time_seriesV2[\"functional_units\"]\n",
    "df_functinal_units.index = df_time_seriesV2[\"time\"]\n",
    "df_sci .index = pd.to_datetime(df_sci .index).tz_convert(\"UTC\")\n",
    "df_functinal_units.index = pd.to_datetime(df_functinal_units.index).tz_convert(\"UTC\")\n",
    "\n",
    "df_sci  = pd.concat([df_sci , df_functinal_units], axis=1)"
   ]
  },
  {
   "cell_type": "markdown",
   "metadata": {},
   "source": [
    "and we compute the SCI"
   ]
  },
  {
   "cell_type": "code",
   "execution_count": null,
   "metadata": {},
   "outputs": [],
   "source": [
    "df_sci[\"SCI\"] = (df_sci[\"O\"] + df_sci[\"M\"]) / (df_sci[\"functional_units\"] * 1000)"
   ]
  },
  {
   "cell_type": "code",
   "execution_count": null,
   "metadata": {},
   "outputs": [],
   "source": [
    "df_sci"
   ]
  },
  {
   "cell_type": "code",
   "execution_count": null,
   "metadata": {},
   "outputs": [],
   "source": [
    "df_sci.reset_index(inplace=True)\n",
    "df_sci.rename({\"index\":\"datetime\"}, axis=1, inplace=True)"
   ]
  },
  {
   "cell_type": "code",
   "execution_count": null,
   "metadata": {},
   "outputs": [],
   "source": [
    "df_sci"
   ]
  },
  {
   "cell_type": "code",
   "execution_count": null,
   "metadata": {},
   "outputs": [],
   "source": [
    "df_sci.to_csv(\"../data/simulated_sci.csv\", sep=\";\")"
   ]
  },
  {
   "cell_type": "markdown",
   "metadata": {},
   "source": [
    "## Let's pretend that we can forecast stuff\n",
    "\n",
    "the goal is to shift the data of 1 year, and to reshuffle it a bit so it doesn't look exactly the same.\n",
    "\n",
    "First, we shift the data of one year"
   ]
  },
  {
   "cell_type": "code",
   "execution_count": null,
   "metadata": {},
   "outputs": [],
   "source": [
    "df_shifted = df_sci.copy()\n",
    "df_shifted.datetime = pd.to_datetime(df_shifted.datetime) + pd.DateOffset(years=1)"
   ]
  },
  {
   "cell_type": "code",
   "execution_count": null,
   "metadata": {},
   "outputs": [],
   "source": [
    "df_shifted"
   ]
  },
  {
   "cell_type": "markdown",
   "metadata": {},
   "source": [
    "Then, we had some gaussian noise to O, M and the functional units. And we compute SCI again"
   ]
  },
  {
   "cell_type": "code",
   "execution_count": null,
   "metadata": {},
   "outputs": [],
   "source": [
    "df_shifted[\"O\"] = df_shifted[\"O\"] * (1 + np.random.normal(0, 0.05, len(df_shifted)))\n",
    "df_shifted[\"M\"] = df_shifted[\"M\"] * (1 + np.random.normal(0, 0.05, len(df_shifted)))\n",
    "df_shifted[\"functional_units\"] = df_shifted[\"functional_units\"] * (1 + np.random.normal(0, 0.05, len(df_shifted)))\n",
    "df_shifted[\"functional_units\"] = df_shifted[\"functional_units\"].round().astype(int)\n",
    "df_shifted[\"SCI\"] = (df_shifted[\"O\"] + df_shifted[\"M\"]) / (df_shifted[\"functional_units\"] * 1000)"
   ]
  },
  {
   "cell_type": "code",
   "execution_count": null,
   "metadata": {},
   "outputs": [],
   "source": [
    "df_shifted"
   ]
  },
  {
   "cell_type": "code",
   "execution_count": null,
   "metadata": {},
   "outputs": [],
   "source": [
    "df_shifted.to_csv(\"../data/simulated_sci_forecasted.csv\", sep=\";\")"
   ]
  },
  {
   "cell_type": "code",
   "execution_count": null,
   "metadata": {},
   "outputs": [],
   "source": []
  },
  {
   "cell_type": "code",
   "execution_count": null,
   "metadata": {},
   "outputs": [],
   "source": []
  },
  {
   "cell_type": "code",
   "execution_count": null,
   "metadata": {},
   "outputs": [],
   "source": []
  },
  {
   "cell_type": "code",
   "execution_count": null,
   "metadata": {},
   "outputs": [],
   "source": []
  },
  {
   "cell_type": "code",
   "execution_count": null,
   "metadata": {},
   "outputs": [],
   "source": []
  },
  {
   "cell_type": "code",
   "execution_count": null,
   "metadata": {},
   "outputs": [],
   "source": []
  }
 ],
 "metadata": {
  "language_info": {
   "name": "python",
   "pygments_lexer": "ipython3"
  }
 },
 "nbformat": 4,
 "nbformat_minor": 5
}
