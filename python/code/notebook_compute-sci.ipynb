{
 "cells": [
  {
   "cell_type": "code",
   "execution_count": null,
   "metadata": {},
   "outputs": [],
   "source": [
    "import pandas as pd\n",
    "import json\n",
    "\n",
    "# Load CSV file\n",
    "df_carbon_intensity = pd.read_json(\"../data/carbonintensitydata.json\").T\n",
    "\n"
   ]
  },
  {
   "cell_type": "markdown",
   "metadata": {},
   "source": [
    "## Data loading"
   ]
  },
  {
   "cell_type": "code",
   "execution_count": null,
   "metadata": {},
   "outputs": [],
   "source": [
    "df_carbon_intensity"
   ]
  },
  {
   "cell_type": "code",
   "execution_count": null,
   "metadata": {},
   "outputs": [],
   "source": []
  },
  {
   "cell_type": "code",
   "execution_count": null,
   "metadata": {},
   "outputs": [],
   "source": [
    "df_devices = pd.read_json(\"../data/devices_generated.json\")\n",
    "df_devices = pd.json_normalize(df_devices[\"devices\"])"
   ]
  },
  {
   "cell_type": "code",
   "execution_count": null,
   "metadata": {},
   "outputs": [],
   "source": [
    "df_devices"
   ]
  },
  {
   "cell_type": "code",
   "execution_count": null,
   "metadata": {},
   "outputs": [],
   "source": []
  },
  {
   "cell_type": "code",
   "execution_count": null,
   "metadata": {},
   "outputs": [],
   "source": []
  },
  {
   "cell_type": "code",
   "execution_count": null,
   "metadata": {},
   "outputs": [],
   "source": [
    "df_time_seriesV2 = pd.read_json(\"../data/timeseries.json\") "
   ]
  },
  {
   "cell_type": "code",
   "execution_count": null,
   "metadata": {},
   "outputs": [],
   "source": [
    "df_time_seriesV2"
   ]
  },
  {
   "cell_type": "code",
   "execution_count": null,
   "metadata": {},
   "outputs": [],
   "source": []
  },
  {
   "cell_type": "code",
   "execution_count": null,
   "metadata": {},
   "outputs": [],
   "source": []
  },
  {
   "cell_type": "code",
   "execution_count": null,
   "metadata": {},
   "outputs": [],
   "source": []
  },
  {
   "cell_type": "code",
   "execution_count": null,
   "metadata": {},
   "outputs": [],
   "source": []
  },
  {
   "cell_type": "code",
   "execution_count": null,
   "metadata": {},
   "outputs": [],
   "source": [
    "inner = df_time_seriesV2[\"hardware_usages\"].map(\n",
    "    lambda d: next(iter(d.values())) if isinstance(d, dict) and d else {}\n",
    ")\n",
    "\n",
    "# 2) Expand to columns (device IDs) and index by time\n",
    "df_matrix = inner.apply(pd.Series)\n",
    "df_matrix.index = pd.to_datetime(df_time_seriesV2[\"time\"])  # optional but handy\n",
    "df_hardware_usage = df_matrix.sort_index().sort_index(axis=1)"
   ]
  },
  {
   "cell_type": "code",
   "execution_count": null,
   "metadata": {},
   "outputs": [],
   "source": [
    "df_hardware_usage"
   ]
  },
  {
   "cell_type": "code",
   "execution_count": null,
   "metadata": {},
   "outputs": [],
   "source": []
  },
  {
   "cell_type": "code",
   "execution_count": null,
   "metadata": {},
   "outputs": [],
   "source": [
    "inner = df_time_seriesV2[\"pue_values\"].map(\n",
    "    lambda d: next(iter(d.values())) if isinstance(d, dict) and d else {}\n",
    ")\n",
    "\n",
    "# 2) Expand to columns (device IDs) and index by time\n",
    "df_matrix = inner.apply(pd.Series)\n",
    "df_matrix.index = pd.to_datetime(df_time_seriesV2[\"time\"])  # optional but handy\n",
    "df_pue = df_matrix.sort_index().sort_index(axis=1)"
   ]
  },
  {
   "cell_type": "code",
   "execution_count": null,
   "metadata": {},
   "outputs": [],
   "source": [
    "df_pue"
   ]
  },
  {
   "cell_type": "markdown",
   "metadata": {},
   "source": [
    "## SCI computation"
   ]
  },
  {
   "cell_type": "markdown",
   "metadata": {},
   "source": [
    "### Compute O\n",
    "\n",
    "First, we do a test for a specific device"
   ]
  },
  {
   "cell_type": "code",
   "execution_count": null,
   "metadata": {},
   "outputs": [],
   "source": [
    "df_carbon_intensity[df_devices[df_devices[\"device_id\"]==\"0000000000\"][\"location\"]]"
   ]
  },
  {
   "cell_type": "code",
   "execution_count": null,
   "metadata": {},
   "outputs": [],
   "source": [
    "# start with the O"
   ]
  },
  {
   "cell_type": "code",
   "execution_count": null,
   "metadata": {},
   "outputs": [],
   "source": [
    "device_id = \"0000000000\"\n",
    "\n"
   ]
  },
  {
   "cell_type": "code",
   "execution_count": null,
   "metadata": {},
   "outputs": [],
   "source": [
    "tmp_pue = df_pue[device_id]"
   ]
  },
  {
   "cell_type": "code",
   "execution_count": null,
   "metadata": {},
   "outputs": [],
   "source": [
    "tmp_carbon = df_carbon_intensity[df_devices[df_devices[\"device_id\"]==device_id][\"location\"]]"
   ]
  },
  {
   "cell_type": "code",
   "execution_count": null,
   "metadata": {},
   "outputs": [],
   "source": [
    "power_idle = df_devices[df_devices[\"device_id\"]==device_id][\"power_idle\"].values[0]"
   ]
  },
  {
   "cell_type": "code",
   "execution_count": null,
   "metadata": {},
   "outputs": [],
   "source": [
    "power_var = df_devices[df_devices[\"device_id\"]==device_id][\"power_variable\"]"
   ]
  },
  {
   "cell_type": "code",
   "execution_count": null,
   "metadata": {},
   "outputs": [],
   "source": [
    "tmp_usage = df_hardware_usage[device_id] "
   ]
  },
  {
   "cell_type": "code",
   "execution_count": null,
   "metadata": {},
   "outputs": [],
   "source": [
    "power_idle"
   ]
  },
  {
   "cell_type": "code",
   "execution_count": null,
   "metadata": {},
   "outputs": [],
   "source": [
    "tmp_carbon.columns = [\"carbon\"]"
   ]
  },
  {
   "cell_type": "code",
   "execution_count": null,
   "metadata": {},
   "outputs": [],
   "source": []
  },
  {
   "cell_type": "code",
   "execution_count": null,
   "metadata": {},
   "outputs": [],
   "source": [
    "df_o = pd.concat([tmp_pue.rename(\"pue\"), tmp_carbon], axis=1)\n",
    "df_o = pd.concat([df_o, tmp_usage.rename(\"usage\")], axis=1)\n",
    "df_o[\"idle\"] = power_idle\n",
    "df_o[\"power\"] = power_var"
   ]
  },
  {
   "cell_type": "code",
   "execution_count": null,
   "metadata": {},
   "outputs": [],
   "source": []
  },
  {
   "cell_type": "code",
   "execution_count": null,
   "metadata": {},
   "outputs": [],
   "source": [
    "df_o"
   ]
  },
  {
   "cell_type": "code",
   "execution_count": null,
   "metadata": {},
   "outputs": [],
   "source": []
  },
  {
   "cell_type": "code",
   "execution_count": null,
   "metadata": {},
   "outputs": [],
   "source": [
    "df_o[\"energy_consumption\"] = ((df_o[\"power\"] * df_o[\"usage\"] ) + df_o[\"idle\"]) *0.5"
   ]
  },
  {
   "cell_type": "code",
   "execution_count": null,
   "metadata": {},
   "outputs": [],
   "source": [
    "df_o"
   ]
  },
  {
   "cell_type": "code",
   "execution_count": null,
   "metadata": {},
   "outputs": [],
   "source": []
  },
  {
   "cell_type": "code",
   "execution_count": null,
   "metadata": {},
   "outputs": [],
   "source": [
    "df_o.drop([\"idle\", \"power\", \"usage\"], inplace=True, axis=1)"
   ]
  },
  {
   "cell_type": "code",
   "execution_count": null,
   "metadata": {},
   "outputs": [],
   "source": [
    "df_o"
   ]
  },
  {
   "cell_type": "code",
   "execution_count": null,
   "metadata": {},
   "outputs": [],
   "source": []
  },
  {
   "cell_type": "code",
   "execution_count": null,
   "metadata": {},
   "outputs": [],
   "source": [
    "df_o[\"o\"] = (df_o[\"pue\"] * df_o[\"carbon\"] * df_o[\"energy_consumption\"]) /1000"
   ]
  },
  {
   "cell_type": "code",
   "execution_count": null,
   "metadata": {},
   "outputs": [],
   "source": [
    "df_o.rename({\"o\":\"test\"}, axis=1)"
   ]
  },
  {
   "cell_type": "code",
   "execution_count": null,
   "metadata": {},
   "outputs": [],
   "source": []
  },
  {
   "cell_type": "code",
   "execution_count": null,
   "metadata": {},
   "outputs": [],
   "source": []
  },
  {
   "cell_type": "markdown",
   "metadata": {},
   "source": [
    "Then we compute O for the all system, i.e. all devices"
   ]
  },
  {
   "cell_type": "code",
   "execution_count": null,
   "metadata": {},
   "outputs": [],
   "source": [
    "df_final_o = pd.DataFrame()\n",
    "\n",
    "for device_id in df_devices.device_id:\n",
    "    #get the inputs\n",
    "    tmp_pue = df_pue[device_id]\n",
    "    tmp_carbon = df_carbon_intensity[df_devices[df_devices[\"device_id\"]==device_id][\"location\"]]\n",
    "    power_idle = df_devices[df_devices[\"device_id\"]==device_id][\"power_idle\"].values[0]\n",
    "    power_var = df_devices[df_devices[\"device_id\"]==device_id][\"power_variable\"].values[0]\n",
    "    tmp_usage = df_hardware_usage[device_id] \n",
    "\n",
    "    #combine them into a DF\n",
    "    tmp_carbon.columns = [\"carbon\"]\n",
    "    df_o = pd.concat([tmp_pue.rename(\"pue\"), tmp_carbon], axis=1)\n",
    "    df_o = pd.concat([df_o, tmp_usage.rename(\"usage\")], axis=1)\n",
    "    df_o[\"idle\"] = power_idle\n",
    "    df_o[\"power\"] = power_var\n",
    "\n",
    "    #make the computations\n",
    "    df_o[\"energy_consumption\"] = ((df_o[\"power\"] * df_o[\"usage\"] ) + df_o[\"idle\"]) *0.5\n",
    "    df_o.drop([\"idle\", \"power\", \"usage\"], inplace=True, axis=1)\n",
    "    df_o[\"o\"] = (df_o[\"pue\"] * df_o[\"carbon\"] * df_o[\"energy_consumption\"]) /1000\n",
    "\n",
    "    #save everything\n",
    "    df_final_o = pd.concat([df_final_o, df_o.rename({\"o\":device_id}, axis=1)[device_id]], axis=1)\n",
    "\n",
    "# add functional units \n",
    "df_functinal_units = df_time_seriesV2[\"functional_units\"]\n",
    "df_functinal_units.index = df_time_seriesV2[\"time\"]\n",
    "df_final_o.index = pd.to_datetime(df_final_o.index).tz_convert(\"UTC\")\n",
    "df_functinal_units.index = pd.to_datetime(df_functinal_units.index).tz_convert(\"UTC\")\n",
    "\n",
    "df_final_o = pd.concat([df_final_o.sum(axis=1), df_functinal_units], axis=1)\n",
    "\n",
    "# final computation for o\n",
    "df_final_o[\"o\"] = df_final_o[0] / df_final_o[\"functional_units\"]  \n",
    "df_final_o.drop([0, \"functional_units\"], inplace=True, axis=1)\n",
    "\n",
    "display(df_final_o)"
   ]
  },
  {
   "cell_type": "code",
   "execution_count": null,
   "metadata": {},
   "outputs": [],
   "source": []
  },
  {
   "cell_type": "markdown",
   "metadata": {},
   "source": [
    "## compute M"
   ]
  },
  {
   "cell_type": "code",
   "execution_count": null,
   "metadata": {},
   "outputs": [],
   "source": []
  },
  {
   "cell_type": "code",
   "execution_count": null,
   "metadata": {},
   "outputs": [],
   "source": []
  },
  {
   "cell_type": "code",
   "execution_count": null,
   "metadata": {},
   "outputs": [],
   "source": []
  },
  {
   "cell_type": "code",
   "execution_count": null,
   "metadata": {},
   "outputs": [],
   "source": []
  },
  {
   "cell_type": "code",
   "execution_count": null,
   "metadata": {},
   "outputs": [],
   "source": []
  },
  {
   "cell_type": "code",
   "execution_count": null,
   "metadata": {},
   "outputs": [],
   "source": []
  },
  {
   "cell_type": "code",
   "execution_count": null,
   "metadata": {},
   "outputs": [],
   "source": []
  }
 ],
 "metadata": {
  "language_info": {
   "name": "python",
   "pygments_lexer": "ipython3"
  }
 },
 "nbformat": 4,
 "nbformat_minor": 5
}
